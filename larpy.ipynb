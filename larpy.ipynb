{
 "cells": [
  {
   "cell_type": "code",
   "execution_count": 2,
   "metadata": {},
   "outputs": [
    {
     "name": "stdout",
     "output_type": "stream",
     "text": [
      "now the fifth one\n"
     ]
    }
   ],
   "source": [
    "print(\"now the fifth one\");"
   ]
  },
  {
   "cell_type": "code",
   "execution_count": 3,
   "metadata": {},
   "outputs": [
    {
     "name": "stdout",
     "output_type": "stream",
     "text": [
      "梯形的面積: 4.0 平方公分\n"
     ]
    }
   ],
   "source": [
    "#讓使用者輸入梯形的上底、下底及高，程式會計算梯形的面積(上底加下底乘以高除以2)\n",
    "top = eval(input(\"請輸入梯形的上底(公分):\"))\n",
    "bottom = eval(input(\"請輸入梯形的下底(公分):\"))\n",
    "height = eval(input(\"請輸入梯形的高(公分):\"))\n",
    "area = (top + bottom) * height / 2\n",
    "print(\"梯形的面積:\",area,\"平方公分\")"
   ]
  },
  {
   "cell_type": "code",
   "execution_count": 5,
   "metadata": {},
   "outputs": [
    {
     "data": {
      "text/plain": [
       "'我有3個apple,5個orange,總共有8fruits'"
      ]
     },
     "execution_count": 5,
     "metadata": {},
     "output_type": "execute_result"
    }
   ],
   "source": [
    "#字串插補\n",
    "apple = 3\n",
    "orange = 5\n",
    "f\"我有{apple}個apple,{orange}個orange,總共有{apple+orange}fruits\""
   ]
  },
  {
   "cell_type": "code",
   "execution_count": 10,
   "metadata": {},
   "outputs": [
    {
     "name": "stdout",
     "output_type": "stream",
     "text": [
      "梯形的面積:4.00平方公分\n"
     ]
    }
   ],
   "source": [
    "#讓使用者輸入梯形的上底、下底及高，程式會計算梯形的面積(上底加下底乘以高除以2)\n",
    "top = eval(input(\"請輸入梯形的上底(公分):\"))\n",
    "bottom = eval(input(\"請輸入梯形的下底(公分):\"))\n",
    "height = eval(input(\"請輸入梯形的高(公分):\"))\n",
    "area = (top + bottom) * height / 2\n",
    "print(f\"梯形的面積:{area:.2f}平方公分\")"
   ]
  },
  {
   "cell_type": "code",
   "execution_count": 1,
   "metadata": {},
   "outputs": [
    {
     "data": {
      "text/plain": [
       "3.142"
      ]
     },
     "execution_count": 1,
     "metadata": {},
     "output_type": "execute_result"
    }
   ],
   "source": [
    "round(3.1415867,ndigits=3)"
   ]
  },
  {
   "cell_type": "code",
   "execution_count": 1,
   "metadata": {},
   "outputs": [
    {
     "name": "stdout",
     "output_type": "stream",
     "text": [
      "對邊:23,斜邊:25,角度:66.93\n"
     ]
    }
   ],
   "source": [
    "#高中數學\n",
    "import math\n",
    "side1 = eval(input(\"輸入直角三角形的對邊:\"))\n",
    "side2 = eval(input(\"輸入直角三角形的斜邊:\"))\n",
    "degree = round(math.degrees(math.asin(side1 / side2)),ndigits=2)\n",
    "print(f\"對邊:{side1},斜邊:{side2},角度:{degree}\")"
   ]
  },
  {
   "cell_type": "code",
   "execution_count": null,
   "metadata": {},
   "outputs": [],
   "source": [
    "import numpy\n",
    "import sympy"
   ]
  },
  {
   "cell_type": "code",
   "execution_count": 2,
   "metadata": {},
   "outputs": [
    {
     "data": {
      "text/plain": [
       "True"
      ]
     },
     "execution_count": 2,
     "metadata": {},
     "output_type": "execute_result"
    }
   ],
   "source": [
    "#比較運算子\n",
    "5==5"
   ]
  },
  {
   "cell_type": "code",
   "execution_count": 1,
   "metadata": {},
   "outputs": [
    {
     "data": {
      "text/plain": [
       "False"
      ]
     },
     "execution_count": 1,
     "metadata": {},
     "output_type": "execute_result"
    }
   ],
   "source": [
    "#傳出布林值\n",
    "5!=5"
   ]
  },
  {
   "cell_type": "code",
   "execution_count": 5,
   "metadata": {},
   "outputs": [
    {
     "name": "stdout",
     "output_type": "stream",
     "text": [
      "學生總分為234\n"
     ]
    }
   ],
   "source": [
    "#學生總分為300\n",
    "#有些學生可以加分5%\n",
    "score = int(input(\"請輸入學生分數(最高300分):\"))\n",
    "is_add = input(\"學生是否符合加分條件?(y,n)\")\n",
    "\n",
    "if(is_add == 'y'):\n",
    "    score *= 1.05\n",
    "    if score > 300:\n",
    "        score = 300\n",
    "\n",
    "\n",
    "print(f\"學生總分為{round(score)}\")"
   ]
  },
  {
   "cell_type": "code",
   "execution_count": 17,
   "metadata": {},
   "outputs": [
    {
     "name": "stdout",
     "output_type": "stream",
     "text": [
      "學生總分為300\n"
     ]
    }
   ],
   "source": [
    "#學生總分為300\n",
    "#檢查輸入超過300,印出錯誤訊息\n",
    "#有些學生可以加分5%\n",
    "##如果加分超過300,就以300分為準\n",
    "try:\n",
    "    score = int(input(\"請輸入學生分數(最高300分):\"))\n",
    "    if score <= 300:\n",
    "         is_add = input(\"學生是否符合加分條件?(y,n)\")\n",
    "\n",
    "         if(is_add == 'y'):\n",
    "             score *= 1.05\n",
    "             if score > 300:\n",
    "                 score = 300\n",
    "\n",
    "         print(f\"學生總分為{round(score)}\")\n",
    "    else:\n",
    "        print(\"輸入超過300分,請重新執行\")\n",
    "except:\n",
    "    print(\"輸入格式有錯誤\")\n"
   ]
  },
  {
   "cell_type": "code",
   "execution_count": 42,
   "metadata": {},
   "outputs": [
    {
     "name": "stdout",
     "output_type": "stream",
     "text": [
      "too high cheater\n"
     ]
    }
   ],
   "source": [
    "try:\n",
    "    score = int(input(\"請輸入國文分數:\"))\n",
    "    if score < 60:\n",
    "        print(\"不及格\");\n",
    "    else:\n",
    "        if score < 80:\n",
    "            print(\"fine\");\n",
    "        else:\n",
    "            if score < 100:\n",
    "                print(\"exceptional!\");\n",
    "            else:\n",
    "                print(\"too high cheater\");\n",
    "except:\n",
    "    print(\"輸入格式有錯誤\")"
   ]
  },
  {
   "cell_type": "code",
   "execution_count": 8,
   "metadata": {},
   "outputs": [
    {
     "name": "stdout",
     "output_type": "stream",
     "text": [
      "輸入格式有錯誤\n"
     ]
    }
   ],
   "source": [
    "try:\n",
    "    score = int(input(\"請輸入學生分數(最高300分):\"))\n",
    "    print(f'分數是{score}')\n",
    "except:\n",
    "    print(\"輸入格式有錯誤\")"
   ]
  }
 ],
 "metadata": {
  "kernelspec": {
   "display_name": "Python 3",
   "language": "python",
   "name": "python3"
  },
  "language_info": {
   "codemirror_mode": {
    "name": "ipython",
    "version": 3
   },
   "file_extension": ".py",
   "mimetype": "text/x-python",
   "name": "python",
   "nbconvert_exporter": "python",
   "pygments_lexer": "ipython3",
   "version": "3.10.12"
  },
  "orig_nbformat": 4
 },
 "nbformat": 4,
 "nbformat_minor": 2
}
